{
  "nbformat": 4,
  "nbformat_minor": 0,
  "metadata": {
    "colab": {
      "provenance": []
    },
    "kernelspec": {
      "name": "python3",
      "display_name": "Python 3"
    },
    "language_info": {
      "name": "python"
    }
  },
  "cells": [
    {
      "cell_type": "markdown",
      "source": [
        "Create a list named \"fruits\" containing three different fruits and display its items\n",
        "using for loop."
      ],
      "metadata": {
        "id": "s9cKsd0cCNMw"
      }
    },
    {
      "cell_type": "code",
      "source": [
        "fruits=[\"Apple\",\"Banana\",\"Cherry\"]\n",
        "for fruit in fruits:\n",
        "  print(fruit)"
      ],
      "metadata": {
        "colab": {
          "base_uri": "https://localhost:8080/"
        },
        "id": "W5ivTdzSCPi3",
        "outputId": "17824751-ac74-4196-92d9-4e6bb482248d"
      },
      "execution_count": 4,
      "outputs": [
        {
          "output_type": "stream",
          "name": "stdout",
          "text": [
            "Apple\n",
            "Banana\n",
            "Cherry\n"
          ]
        }
      ]
    },
    {
      "cell_type": "markdown",
      "source": [
        "Create a tuple named \"numbers\" with five random numbers and display its item\n",
        "using for loop.\n"
      ],
      "metadata": {
        "id": "m4fzIWPjDJca"
      }
    },
    {
      "cell_type": "code",
      "source": [
        "numbers=(2,3,4,5)\n",
        "for num in numbers:\n",
        "  print(num)"
      ],
      "metadata": {
        "colab": {
          "base_uri": "https://localhost:8080/"
        },
        "id": "Aoyp-MMcDK4e",
        "outputId": "fb63cd14-53b4-4837-c98a-b5cdb1b83817"
      },
      "execution_count": 6,
      "outputs": [
        {
          "output_type": "stream",
          "name": "stdout",
          "text": [
            "2\n",
            "3\n",
            "4\n",
            "5\n"
          ]
        }
      ]
    },
    {
      "cell_type": "markdown",
      "source": [
        "Create a set named \"colors\" with three different colors and display its items using\n",
        "for loop."
      ],
      "metadata": {
        "id": "oCdhQPx8DZ2N"
      }
    },
    {
      "cell_type": "code",
      "source": [
        "colors={\"Red\",\"Blue\",\"Green\"}\n",
        "for color in colors:\n",
        "  print(color)\n",
        "  #sets are unordered so output appear in any order"
      ],
      "metadata": {
        "colab": {
          "base_uri": "https://localhost:8080/"
        },
        "id": "r4UMPsz5DeJP",
        "outputId": "7e2742f0-4cde-4ff1-d5ea-36affe7c13e5"
      },
      "execution_count": 8,
      "outputs": [
        {
          "output_type": "stream",
          "name": "stdout",
          "text": [
            "Blue\n",
            "Green\n",
            "Red\n"
          ]
        }
      ]
    },
    {
      "cell_type": "markdown",
      "source": [
        " Create a dictionary named \"student\" with the following key-value pairs: (Marks\n",
        "20)\n",
        "o \"name\" as the key and the student's name as the value.\n",
        "o \"age\" as the key and the student's age as the value.\n",
        "o \"grade\" as the key and the student's grade as the value.\n",
        "o Iterate over the dictionary using the for loop and display its keys\n",
        "\n",
        "1\n",
        "\n",
        "o Iterate over the dictionary using the for loop and display its values"
      ],
      "metadata": {
        "id": "gWyZvJy_D0eE"
      }
    },
    {
      "cell_type": "code",
      "source": [
        "student={\"name\":\"Fiza\",\"age\":19,\"grade\":\"A\"}\n",
        "print(\"keys:\")\n",
        "for key in student:\n",
        "  print (key)\n",
        "print(\"\\nValues\")\n",
        "for value in student.values():\n",
        "  print(value)"
      ],
      "metadata": {
        "colab": {
          "base_uri": "https://localhost:8080/"
        },
        "id": "9RfecTjWD8ru",
        "outputId": "3b7b1265-b1df-4606-b486-17352dd3d83b"
      },
      "execution_count": 9,
      "outputs": [
        {
          "output_type": "stream",
          "name": "stdout",
          "text": [
            "keys:\n",
            "name\n",
            "age\n",
            "grade\n",
            "\n",
            "Values\n",
            "Fiza\n",
            "19\n",
            "A\n"
          ]
        }
      ]
    },
    {
      "cell_type": "markdown",
      "source": [
        " Create a multi-line string named \"poem\" with a short poem of your choice."
      ],
      "metadata": {
        "id": "w0IeO5ISEu4v"
      }
    },
    {
      "cell_type": "code",
      "source": [
        "poem=\"\"\"Roses are red,\n",
        "Violets are blue,\n",
        "Coding is fun,\n",
        "And so are u!\"\"\"\n",
        "print(poem)"
      ],
      "metadata": {
        "colab": {
          "base_uri": "https://localhost:8080/"
        },
        "id": "ffcK9zg7Ez2n",
        "outputId": "c2d3f5b1-c4a2-491c-ed90-32b9c46fd841"
      },
      "execution_count": 10,
      "outputs": [
        {
          "output_type": "stream",
          "name": "stdout",
          "text": [
            "Roses are red,\n",
            "Violets are blue,\n",
            "Coding is fun,\n",
            "And so are u!\n"
          ]
        }
      ]
    },
    {
      "cell_type": "markdown",
      "source": [
        "Write an if statement to check if the length of the \"fruits\" list is greater than 3. If it\n",
        "is, print \"You have many fruits!\"."
      ],
      "metadata": {
        "id": "ASu9bbCYFMK9"
      }
    },
    {
      "cell_type": "code",
      "source": [
        "fruits=[\"Banana\",\"Cherry\",\"Apple\",\"Mango\"]"
      ],
      "metadata": {
        "id": "Mcc6g1pKFSo8"
      },
      "execution_count": 15,
      "outputs": []
    },
    {
      "cell_type": "code",
      "source": [
        "if len(fruits)>3:\n",
        "  print(\"You have meny fruits..\")"
      ],
      "metadata": {
        "colab": {
          "base_uri": "https://localhost:8080/"
        },
        "id": "-Ac6puI8Fk2M",
        "outputId": "0065682c-759c-454a-b319-1c71c498995d"
      },
      "execution_count": 16,
      "outputs": [
        {
          "output_type": "stream",
          "name": "stdout",
          "text": [
            "You have meny fruits..\n"
          ]
        }
      ]
    },
    {
      "cell_type": "markdown",
      "source": [
        " Create a program that takes a student's numerical grade as input and prints a\n",
        "corresponding letter grade. Use if-else statements to classify the grade into\n",
        "categories such as \"A,\" \"B,\" \"C,\" \"D,\" or \"F.\" (Marks 20)\n",
        "o If the numerical grade is 90 or higher, the corresponding letter grade is \"A.\"\n",
        "o If the numerical grade is between 80 and 89 (inclusive), the corresponding\n",
        "letter grade is \"B.\"\n",
        "o If the numerical grade is between 70 and 79 (inclusive), the corresponding\n",
        "letter grade is \"C.\"\n",
        "o If the numerical grade is between 60 and 69 (inclusive), the corresponding\n",
        "letter grade is \"D.\"\n",
        "o If the numerical grade is below 60, the corresponding letter grade is \"F.\""
      ],
      "metadata": {
        "id": "W2JdOTZGF2HZ"
      }
    },
    {
      "cell_type": "code",
      "source": [
        "grade=int(input(\"Enter the numerical grade:\"))\n",
        "if grade>=90:\n",
        "  print(\"Letter grade is A\")\n",
        "elif grade>=80:\n",
        "  print(\"Letter grade is B\")\n",
        "elif grade>=70:\n",
        "  print(\"Letter garde is C\")\n",
        "elif grade>=60:\n",
        "  print(\"Letter garde is D\")\n",
        "else:\n",
        "  print(\"Letter grade is F\")"
      ],
      "metadata": {
        "colab": {
          "base_uri": "https://localhost:8080/"
        },
        "id": "BSsBjnDkF6uA",
        "outputId": "4625d6ba-8ae3-49aa-b9d0-d458738c8322"
      },
      "execution_count": 17,
      "outputs": [
        {
          "output_type": "stream",
          "name": "stdout",
          "text": [
            "Enter the numerical grade:89\n",
            "Letter grade is B\n"
          ]
        }
      ]
    },
    {
      "cell_type": "markdown",
      "source": [
        " Create a program that takes a temperature in Celsius as input from user and\n",
        "classifies it into categories like \"Freezing,\" \"Cold,\" \"Moderate,\" \"Warm,\" or \"Hot.\"\n",
        "Use if-else statements to define the temperature ranges for each category. (Marks\n",
        "20)\n",
        "o If the temperature is below -10 degrees Celsius, it's classified as \"Freezing.\"\n",
        "o If the temperature is between -10 and 0 degrees Celsius (exclusive), it's\n",
        "classified as \"Cold.\"\n",
        "o If the temperature is between 0 and 20 degrees Celsius (exclusive), it's\n",
        "classified as \"Moderate.\"\n",
        "o If the temperature is between 20 and 30 degrees Celsius (exclusive), it's\n",
        "classified as \"Warm.\"\n",
        "o If the temperature is 30 degrees Celsius or above, it's classified as \"Hot.\""
      ],
      "metadata": {
        "id": "NuCNtrPsG_MY"
      }
    },
    {
      "cell_type": "code",
      "source": [
        "temperature = float(input(\"Enter the temperature in Celsius: \"))\n",
        "if temperature < -10:\n",
        "    print(\"Freezing\")\n",
        "elif -10 <= temperature < 0:\n",
        "    print(\"Cold\")\n",
        "elif 0 <= temperature < 20:\n",
        "    print(\"Moderate\")\n",
        "elif 20 <= temperature < 30:\n",
        "    print(\"Warm\")\n",
        "else:\n",
        "    print(\"Hot\")"
      ],
      "metadata": {
        "colab": {
          "base_uri": "https://localhost:8080/"
        },
        "id": "m2p1_EebHDU9",
        "outputId": "ecbe06be-98a1-4f04-9172-f4d83c1bd3d0"
      },
      "execution_count": 18,
      "outputs": [
        {
          "output_type": "stream",
          "name": "stdout",
          "text": [
            "Enter the temperature in Celsius: 89\n",
            "Hot\n"
          ]
        }
      ]
    }
  ]
}