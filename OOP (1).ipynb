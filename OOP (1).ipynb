{
  "nbformat": 4,
  "nbformat_minor": 0,
  "metadata": {
    "colab": {
      "provenance": []
    },
    "kernelspec": {
      "name": "python3",
      "display_name": "Python 3"
    },
    "language_info": {
      "name": "python"
    }
  },
  "cells": [
    {
      "cell_type": "code",
      "execution_count": 3,
      "metadata": {
        "colab": {
          "base_uri": "https://localhost:8080/"
        },
        "id": "3FuT5mMNn9AG",
        "outputId": "b4c8897e-ba5e-4f68-dccc-8ed1c22c55f5"
      },
      "outputs": [
        {
          "output_type": "stream",
          "name": "stdout",
          "text": [
            "i am a programmer\n",
            "Fiza Aslam\n"
          ]
        }
      ],
      "source": [
        "class Student:\n",
        "\n",
        "  def __init__(self,fullname):\n",
        "    self.name=fullname\n",
        "    print(\"i am a programmer\")\n",
        "s1=Student(\"Fiza Aslam\")\n",
        "\n",
        "print(s1.name)"
      ]
    },
    {
      "cell_type": "code",
      "source": [
        "class Student:\n",
        "\n",
        "  def __init__(self,fullname):\n",
        "    self.name=fullname\n",
        "  def hello(self):\n",
        "    print(\"hello\",self.name)\n",
        "    print(\"i am a programmer\")\n",
        "s1=Student(\"Fiza Aslam\")\n",
        "\n",
        "print(s1.name)\n",
        "s1.hello()"
      ],
      "metadata": {
        "colab": {
          "base_uri": "https://localhost:8080/"
        },
        "id": "_1lEBnEEpjsI",
        "outputId": "9ff330b1-ede4-4108-b779-7b8bea6fb012"
      },
      "execution_count": 5,
      "outputs": [
        {
          "output_type": "stream",
          "name": "stdout",
          "text": [
            "Fiza Aslam\n",
            "hello Fiza Aslam\n",
            "i am a programmer\n"
          ]
        }
      ]
    },
    {
      "cell_type": "code",
      "source": [
        "class Student:\n",
        "\n",
        "  def __init__(self, name, marks):\n",
        "    self.name = name\n",
        "    self.marks = marks\n",
        "\n",
        "  def get_avg(self):\n",
        "    sum = 0\n",
        "    for val in self.marks:\n",
        "      sum += val\n",
        "    print(\"Hi\",self.name,\"Your average is:\", sum / 3)\n",
        "\n",
        "# Object creation (outside the class)\n",
        "s1 = Student(\"Fiza\", [98, 99, 89])\n",
        "s1.get_avg()\n"
      ],
      "metadata": {
        "colab": {
          "base_uri": "https://localhost:8080/"
        },
        "id": "2HMcuEqY-kzw",
        "outputId": "8b945970-4ec0-4262-ddbd-554530a10de8"
      },
      "execution_count": 12,
      "outputs": [
        {
          "output_type": "stream",
          "name": "stdout",
          "text": [
            "Hi Fiza Your average is: 95.33333333333333\n"
          ]
        }
      ]
    },
    {
      "cell_type": "code",
      "source": [
        "class Car:\n",
        "  def __init__(self):\n",
        "    self.acc=False\n",
        "    self.clutch=False\n",
        "    self.brk=False\n",
        "\n",
        "  def start(self):\n",
        "     self.acc=True\n",
        "     self.clutch=True\n",
        "     self.brk=True\n",
        "\n",
        "     print(\"CAR STARTED.....\")\n",
        "\n",
        "car1=Car()\n",
        "car1.start()"
      ],
      "metadata": {
        "colab": {
          "base_uri": "https://localhost:8080/"
        },
        "id": "OAug-xe0_5Qo",
        "outputId": "c54da148-3a96-49f0-c5ec-9605732dd5cd"
      },
      "execution_count": 13,
      "outputs": [
        {
          "output_type": "stream",
          "name": "stdout",
          "text": [
            "CAR STARTED.....\n"
          ]
        }
      ]
    },
    {
      "cell_type": "code",
      "source": [
        "class Account:\n",
        "  def __init__(self, bal, acc):\n",
        "    self.balance = bal\n",
        "    self.account_no = acc\n",
        "\n",
        "  def debit(self, amount):\n",
        "    self.balance -= amount\n",
        "    print(\"Rs.\", amount, \"debited from acc,\")\n",
        "    print(\"Total balance =\", self.get_balance())\n",
        "\n",
        "  def credit(self, amount):\n",
        "    self.balance += amount\n",
        "    print(\"Rs.\", amount, \"credited to acc,\")\n",
        "    print(\"Total balance =\", self.get_balance())\n",
        "\n",
        "  def get_balance(self):\n",
        "    return self.balance\n",
        "\n",
        "# Object creation and method calls\n",
        "acc1 = Account(10000, 900)\n",
        "acc1.debit(1399)\n",
        "acc1.credit(1000)\n",
        "acc1.debit(1000)\n"
      ],
      "metadata": {
        "colab": {
          "base_uri": "https://localhost:8080/"
        },
        "id": "JrePgnRCEIl9",
        "outputId": "634521bb-697a-4c9f-cb6f-32fbf8084460"
      },
      "execution_count": 19,
      "outputs": [
        {
          "output_type": "stream",
          "name": "stdout",
          "text": [
            "Rs. 1399 debited from acc,\n",
            "Total balance = 8601\n",
            "Rs. 1000 credited to acc,\n",
            "Total balance = 9601\n",
            "Rs. 1000 debited from acc,\n",
            "Total balance = 8601\n"
          ]
        }
      ]
    },
    {
      "cell_type": "code",
      "source": [
        "class Person():\n",
        "\n",
        "  __name = \"Fiza\"\n",
        "\n",
        "  def __hello(self):\n",
        "    print(\"Hello Fiza\")\n",
        "\n",
        "  def welcome(self):\n",
        "    self.__hello()  # Calling the private method\n",
        "\n",
        "p1 = Person()\n",
        "p1.welcome()  # Just call, no need to print since it prints inside\n"
      ],
      "metadata": {
        "colab": {
          "base_uri": "https://localhost:8080/"
        },
        "id": "P4LIo5ABI8FF",
        "outputId": "b300bc70-112b-44d9-9e5a-1cd12c4e9db3"
      },
      "execution_count": 22,
      "outputs": [
        {
          "output_type": "stream",
          "name": "stdout",
          "text": [
            "Hello Fiza\n"
          ]
        }
      ]
    },
    {
      "cell_type": "code",
      "source": [
        "class car:\n",
        "  @staticmethod\n",
        "  def start():\n",
        "   print(\"car started..\")\n",
        "\n",
        "  @staticmethod\n",
        "  def stopt():\n",
        "   print(\"car stooped..\")\n",
        "\n",
        "class toyota(car):\n",
        "\n",
        "    def __init__(self, name):\n",
        "     self.name = name\n",
        "\n",
        "car1=toyota(\"bmw\")\n",
        "car2=toyota(\"fortuner\")\n",
        "print(car1.name)\n",
        "\n",
        "\n"
      ],
      "metadata": {
        "colab": {
          "base_uri": "https://localhost:8080/"
        },
        "id": "F5tyRpZXJAYv",
        "outputId": "304300a1-a4f7-455a-e1c8-305acb439d3c"
      },
      "execution_count": 23,
      "outputs": [
        {
          "output_type": "stream",
          "name": "stdout",
          "text": [
            "bmw\n"
          ]
        }
      ]
    },
    {
      "cell_type": "code",
      "source": [
        "class sweet:\n",
        "  @staticmethod\n",
        "  def start():\n",
        "   print(\"sweet started..\")\n",
        "\n",
        "  @staticmethod\n",
        "  def stopt():\n",
        "   print(\"angry stooped..\")\n",
        "\n",
        "class cute(sweet):\n",
        "\n",
        "    def __init__(self, name):\n",
        "     self.name = name\n",
        "\n",
        "class beautiful(cute):\n",
        "\n",
        "    def __init__(self, brand):\n",
        "     self.brand = brand\n",
        "\n",
        "sweet1=beautiful(\"fiza ch\")\n",
        "sweet2=cute(\"programmer\")\n",
        "print(sweet1.brand)\n",
        "print(sweet2.name)\n",
        "sweet1.start()"
      ],
      "metadata": {
        "colab": {
          "base_uri": "https://localhost:8080/"
        },
        "id": "NX1exCBlMK9i",
        "outputId": "2615c8da-f109-4500-f916-7e02578b8bd6"
      },
      "execution_count": 27,
      "outputs": [
        {
          "output_type": "stream",
          "name": "stdout",
          "text": [
            "fiza ch\n",
            "programmer\n",
            "sweet started..\n"
          ]
        }
      ]
    },
    {
      "cell_type": "code",
      "source": [],
      "metadata": {
        "id": "AbDCkQMRXvHK"
      },
      "execution_count": null,
      "outputs": []
    },
    {
      "cell_type": "code",
      "source": [
        "class A:\n",
        "  var1=\"welcome to class A\"\n",
        "\n",
        "\n",
        "class B:\n",
        "  var2=\"welcome to class B\"\n",
        "\n",
        "\n",
        "class C(A,B):\n",
        "  var3=\"welcome to class C\"\n",
        "\n",
        "\n",
        "C1=C()\n",
        "print(C1.var1)\n",
        "print(C1.var2)\n",
        "print(C1.var3)"
      ],
      "metadata": {
        "colab": {
          "base_uri": "https://localhost:8080/"
        },
        "id": "Bv_GbXp_OGUM",
        "outputId": "5f172f20-2b51-442d-9e3d-ae72072b7939"
      },
      "execution_count": 30,
      "outputs": [
        {
          "output_type": "stream",
          "name": "stdout",
          "text": [
            "welcome to class A\n",
            "welcome to class B\n",
            "welcome to class C\n"
          ]
        }
      ]
    },
    {
      "cell_type": "code",
      "source": [
        "print(1+2)\n",
        "print(type(1))\n",
        "print(\"fiza\"+\"Aslam\")\n",
        "print(type(\"fiza\"))\n",
        "print([1,2,3]+[5,6,7])\n",
        "print(type([1,2,3]))"
      ],
      "metadata": {
        "colab": {
          "base_uri": "https://localhost:8080/"
        },
        "id": "BO-6EenwTLTI",
        "outputId": "f2992654-c04b-461e-d603-7073fa17d21f"
      },
      "execution_count": 31,
      "outputs": [
        {
          "output_type": "stream",
          "name": "stdout",
          "text": [
            "3\n",
            "<class 'int'>\n",
            "fizaAslam\n",
            "<class 'str'>\n",
            "[1, 2, 3, 5, 6, 7]\n",
            "<class 'list'>\n"
          ]
        }
      ]
    },
    {
      "cell_type": "code",
      "source": [
        "class Complex:\n",
        "  def __init__(self, real, img):\n",
        "    self.real = real\n",
        "    self.img = img\n",
        "\n",
        "  def show_num(self):\n",
        "    print(self.real, \"i +\", self.img, \"j\")\n",
        "\n",
        "\n",
        "  def __add__(self,num2):\n",
        "    newReal=self.real+num2.real\n",
        "    newImg=self.img+num2.img\n",
        "    return Complex(newReal,newImg)\n",
        "\n",
        "num1 = Complex(1, 5)\n",
        "num1.show_num()\n",
        "\n",
        "\n",
        "num3 = Complex(9, 4)\n",
        "num3.show_num()\n",
        "\n",
        "num4=num1+num3\n",
        "num4.show_num()\n",
        "\n"
      ],
      "metadata": {
        "colab": {
          "base_uri": "https://localhost:8080/"
        },
        "id": "c887CNjjVr7H",
        "outputId": "0d9d6033-6388-4039-a466-cb8f1db4aedc"
      },
      "execution_count": 35,
      "outputs": [
        {
          "output_type": "stream",
          "name": "stdout",
          "text": [
            "1 i + 5 j\n",
            "9 i + 4 j\n",
            "10 i + 9 j\n"
          ]
        }
      ]
    },
    {
      "cell_type": "code",
      "source": [
        "class Complex:\n",
        "  def __init__(self, real, img):\n",
        "    self.real = real\n",
        "    self.img = img\n",
        "\n",
        "  def show_num(self):\n",
        "    print(self.real, \"i +\", self.img, \"j\")\n",
        "\n",
        "\n",
        "  def __sub__(self,num2):\n",
        "    newReal=self.real-num2.real\n",
        "    newImg=self.img-num2.img\n",
        "    return Complex(newReal,newImg)\n",
        "\n",
        "num1 = Complex(1, 5)\n",
        "num1.show_num()\n",
        "\n",
        "\n",
        "num3 = Complex(9, 4)\n",
        "num3.show_num()\n",
        "\n",
        "num4=num1-num3\n",
        "num4.show_num()\n"
      ],
      "metadata": {
        "colab": {
          "base_uri": "https://localhost:8080/"
        },
        "id": "qbR_dBL0Xihq",
        "outputId": "c5032de1-2919-4377-d66b-5e2874f08fad"
      },
      "execution_count": 36,
      "outputs": [
        {
          "output_type": "stream",
          "name": "stdout",
          "text": [
            "1 i + 5 j\n",
            "9 i + 4 j\n",
            "-8 i + 1 j\n"
          ]
        }
      ]
    }
  ]
}