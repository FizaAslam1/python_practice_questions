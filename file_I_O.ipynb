{
  "nbformat": 4,
  "nbformat_minor": 0,
  "metadata": {
    "colab": {
      "provenance": []
    },
    "kernelspec": {
      "name": "python3",
      "display_name": "Python 3"
    },
    "language_info": {
      "name": "python"
    }
  },
  "cells": [
    {
      "cell_type": "code",
      "source": [
        "# Create a dummy file for demonstration\n",
        "with open(\"fiza.txt\", \"w\") as f:\n",
        "    f.write(\"This is a test file.\")"
      ],
      "metadata": {
        "id": "3QddTT5LmYmt"
      },
      "execution_count": 6,
      "outputs": []
    },
    {
      "cell_type": "code",
      "source": [
        "f = open(\"fiza.txt\",\"r\")\n",
        "data = f.read()\n",
        "print(data)\n",
        "print(type(data))\n",
        "f.close()"
      ],
      "metadata": {
        "colab": {
          "base_uri": "https://localhost:8080/"
        },
        "id": "A_ovpeKXk2qp",
        "outputId": "60713004-1a1a-4577-80d4-3f77fa5128c8"
      },
      "execution_count": 9,
      "outputs": [
        {
          "output_type": "stream",
          "name": "stdout",
          "text": [
            "This is a test file.fiza is python programmer\n",
            "<class 'str'>\n"
          ]
        }
      ]
    },
    {
      "cell_type": "code",
      "source": [
        "f = open(\"fiza.txt\",\"a\")\n",
        "f.write(\"fiza is python programmer\")\n",
        "f.close()"
      ],
      "metadata": {
        "id": "VipQ8Zfombmd"
      },
      "execution_count": 10,
      "outputs": []
    },
    {
      "cell_type": "code",
      "source": [
        "# Create a dummy file for demonstratio\n",
        "with open(\"hmm.txt\", \"w\") as f:\n",
        "    f.write(\"Python .\")"
      ],
      "metadata": {
        "id": "m3xKmk11mb4k"
      },
      "execution_count": 22,
      "outputs": []
    },
    {
      "cell_type": "code",
      "source": [
        "import os\n",
        "os.remove(\"hmm.txt\")"
      ],
      "metadata": {
        "id": "ssKefkTFzB_T"
      },
      "execution_count": 23,
      "outputs": []
    },
    {
      "cell_type": "code",
      "source": [
        "with open(\"practice.txt\", \"w\") as f:\n",
        "  f.write(\"Hi!EVERYONE\\n WE ARE LEARNING Java FILEI/O\\n\")\n",
        "  f.write(\"for datascience\\n future coder\")"
      ],
      "metadata": {
        "id": "YG3l0luGzubi"
      },
      "execution_count": 27,
      "outputs": []
    },
    {
      "cell_type": "code",
      "source": [
        "f = open(\"practice.txt\",\"r\")\n",
        "data = f.read()\n",
        "print(data)\n",
        "f.close()"
      ],
      "metadata": {
        "id": "x9fYBcDD14ym",
        "outputId": "d5cb7f68-ba06-4e15-a428-90e769278fbc",
        "colab": {
          "base_uri": "https://localhost:8080/"
        }
      },
      "execution_count": 28,
      "outputs": [
        {
          "output_type": "stream",
          "name": "stdout",
          "text": [
            "Hi!EVERYONE\n",
            " WE ARE LEARNING Java FILEI/O\n",
            "for datascience\n",
            " future coder\n"
          ]
        }
      ]
    },
    {
      "cell_type": "code",
      "source": [
        "with open(\"practice.txt\",\"r\") as f:\n",
        "  data = f.read()\n",
        "new_data=data.replace(\"Java\",\"Python\")\n",
        "print(new_data)\n",
        "f.close()"
      ],
      "metadata": {
        "id": "zNhiMj9J2mmy",
        "outputId": "b6d2756c-4b17-4e9c-d438-cf42a67ffa35",
        "colab": {
          "base_uri": "https://localhost:8080/"
        }
      },
      "execution_count": 30,
      "outputs": [
        {
          "output_type": "stream",
          "name": "stdout",
          "text": [
            "Hi!EVERYONE\n",
            " WE ARE LEARNING Python FILEI/O\n",
            "for datascience\n",
            " future coder\n"
          ]
        }
      ]
    },
    {
      "cell_type": "code",
      "source": [
        "def CHECK_FOR_WORD():\n",
        "   word=\"datascience\"\n",
        "   with open(\"practice.txt\",\"r\") as f:\n",
        "      data = f.read()\n",
        "   if (data.find(word)!= -1):\n",
        "    print(\"FOUND\")\n",
        "   else:\n",
        "    print(\"NOT FOUND\")\n",
        "\n",
        "CHECK_FOR_WORD()"
      ],
      "metadata": {
        "id": "meH8GU_E4EGN",
        "outputId": "58fb10bc-6666-4b0f-b7d1-ba6a8d8e4c58",
        "colab": {
          "base_uri": "https://localhost:8080/"
        }
      },
      "execution_count": 35,
      "outputs": [
        {
          "output_type": "stream",
          "name": "stdout",
          "text": [
            "FOUND\n"
          ]
        }
      ]
    },
    {
      "cell_type": "code",
      "source": [
        "def check_for_line():\n",
        "    word = \"datascience\"\n",
        "    data = True\n",
        "    line_no = 1\n",
        "\n",
        "    with open(\"practice.txt\", \"r\") as f:\n",
        "        while data:\n",
        "            data = f.readline()\n",
        "            if word in data:\n",
        "                print(line_no)\n",
        "                return line_no\n",
        "            line_no += 1\n",
        "\n",
        "    return -1  # Word not found\n",
        "\n",
        "# Function call (make sure it's not indented)\n",
        "check_for_line()\n"
      ],
      "metadata": {
        "id": "pyKsu4hA_jnQ",
        "outputId": "507ea866-d19d-4719-a795-26227492c484",
        "colab": {
          "base_uri": "https://localhost:8080/"
        }
      },
      "execution_count": 37,
      "outputs": [
        {
          "output_type": "stream",
          "name": "stdout",
          "text": [
            "3\n"
          ]
        },
        {
          "output_type": "execute_result",
          "data": {
            "text/plain": [
              "3"
            ]
          },
          "metadata": {},
          "execution_count": 37
        }
      ]
    },
    {
      "cell_type": "code",
      "source": [
        "with open(\"list.txt\", \"w\") as f:\n",
        "  f.write(\"1,2,3,45,67,86\")\n",
        ""
      ],
      "metadata": {
        "id": "6hzOsoKIAYYr"
      },
      "execution_count": 38,
      "outputs": []
    },
    {
      "cell_type": "code",
      "source": [
        "def count_even_numbers():\n",
        "    with open(\"list.txt\", \"r\") as f:\n",
        "        content = f.read()\n",
        "\n",
        "    # Split by comma or space\n",
        "    numbers = [int(x.strip()) for x in content.replace(',', ' ').split()]\n",
        "\n",
        "    even_numbers = [num for num in numbers if num % 2 == 0]\n",
        "\n",
        "    print(\"Count of even numbers:\", len(even_numbers))\n",
        "\n",
        "\n",
        "count_even_numbers()\n",
        "\n"
      ],
      "metadata": {
        "id": "HccwFOcEAsrW",
        "outputId": "dae1bcd1-3631-4849-9702-a4c5c6b0ef0d",
        "colab": {
          "base_uri": "https://localhost:8080/"
        }
      },
      "execution_count": 43,
      "outputs": [
        {
          "output_type": "stream",
          "name": "stdout",
          "text": [
            "Count of even numbers: 2\n"
          ]
        }
      ]
    }
  ]
}