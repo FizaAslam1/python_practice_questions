{
  "nbformat": 4,
  "nbformat_minor": 0,
  "metadata": {
    "colab": {
      "provenance": []
    },
    "kernelspec": {
      "name": "python3",
      "display_name": "Python 3"
    },
    "language_info": {
      "name": "python"
    }
  },
  "cells": [
    {
      "cell_type": "markdown",
      "source": [
        "GUESS NUMBERS\n"
      ],
      "metadata": {
        "id": "lkpRHHNJewmL"
      }
    },
    {
      "cell_type": "code",
      "source": [
        "#this uses concept of loops\n",
        "import random\n",
        "\n",
        "target=random.randint(1,100)\n",
        "while True:\n",
        "  userchoice=input(\"Guess the  target or Quit(Q):\")\n",
        "  if(userchoice==\"Q\"):\n",
        "    break\n",
        "  userchoice=int(userchoice)\n",
        "  if(userchoice==target):\n",
        "     print(\"Success:Correct guess!!\")\n",
        "     break\n",
        "  elif(userchoice<target):\n",
        "     print(\"Your guess number was samll..guess big number\")\n",
        "  else:\n",
        "     print(\"Your guess number was big..guess small number\")\n",
        "\n",
        "\n",
        "\n",
        "print(\"__GAME OVER---TRY AGAIN.\")"
      ],
      "metadata": {
        "colab": {
          "base_uri": "https://localhost:8080/"
        },
        "id": "XvROogQXezID",
        "outputId": "ee49f6c1-e058-4611-dc28-baa8e3bcb80a"
      },
      "execution_count": 35,
      "outputs": [
        {
          "output_type": "stream",
          "name": "stdout",
          "text": [
            "Guess the  target or Quit(Q):6\n",
            "Your guess number was samll..guess big number\n",
            "Guess the  target or Quit(Q):Q\n",
            "__GAME OVER---TRY AGAIN.\n"
          ]
        }
      ]
    },
    {
      "cell_type": "markdown",
      "source": [
        "RANDOM PASSWORD GENERATOR"
      ],
      "metadata": {
        "id": "oav4ysCtkDyo"
      }
    },
    {
      "cell_type": "code",
      "source": [
        "import random\n",
        "import string\n",
        "\n",
        "pass_len=12\n",
        "charvalues=string.ascii_letters+string.digits+string.punctuation\n",
        "password=\"\"\n",
        "for i in  range(pass_len):\n",
        "  password+=random.choice(charvalues)\n",
        "print(\"Your random password is:\",password)"
      ],
      "metadata": {
        "colab": {
          "base_uri": "https://localhost:8080/"
        },
        "id": "_AfTEAvBkHq0",
        "outputId": "e2255782-6bf6-4d6e-8532-c904f6359c01"
      },
      "execution_count": 31,
      "outputs": [
        {
          "output_type": "stream",
          "name": "stdout",
          "text": [
            "Your random password is: /xE>$PYZA<<T\n"
          ]
        }
      ]
    },
    {
      "cell_type": "markdown",
      "source": [
        "password generator by comprehensive method"
      ],
      "metadata": {
        "id": "De1zZvV9oOFv"
      }
    },
    {
      "cell_type": "code",
      "source": [
        "import random\n",
        "import string\n",
        "\n",
        "pass_len=12\n",
        "charvalues=string.ascii_letters+string.digits+string.punctuation\n",
        "res=\"\".join([random.choice(charvalues) for i in range(pass_len)])\n",
        "print(\"your random password is:\",res)"
      ],
      "metadata": {
        "colab": {
          "base_uri": "https://localhost:8080/"
        },
        "id": "oRGjEtXPoVmB",
        "outputId": "9b9ddb15-6ec3-4518-ab9b-65d1e5013209"
      },
      "execution_count": 34,
      "outputs": [
        {
          "output_type": "stream",
          "name": "stdout",
          "text": [
            "your random password is: M+,Sp&EV#+MJ\n"
          ]
        }
      ]
    }
  ]
}