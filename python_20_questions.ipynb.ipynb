{
  "cells": [
    {
      "cell_type": "markdown",
      "source": [
        "1. Write a program that takes a string as input and counts the number of vowels and\n",
        "consonants in the string. (5 marks)\n",
        "Input: Hello, World!\n",
        "Output:\n",
        "Number of vowels: 3\n",
        "Number of consonants: 7"
      ],
      "metadata": {
        "id": "Q9lX86XQcxPr"
      }
    },
    {
      "cell_type": "code",
      "source": [
        "def count_vowels_consonants(string):\n",
        "    vowels = \"aeiouAEIOU\"\n",
        "    vowel_count = 0\n",
        "    consonant_count = 0\n",
        "\n",
        "    for char in string:\n",
        "        if char.isalpha():\n",
        "            if char in vowels:\n",
        "                vowel_count += 1\n",
        "            else:\n",
        "                consonant_count += 1\n",
        "\n",
        "    print(\"Number of vowels:\", vowel_count)\n",
        "    print(\"Number of consonants:\", consonant_count)\n",
        "\n",
        "# Example\n",
        "count_vowels_consonants(\"Hello, World!\")"
      ],
      "metadata": {
        "colab": {
          "base_uri": "https://localhost:8080/"
        },
        "id": "2WcyK__ggPic",
        "outputId": "98b67531-2526-41e3-9a38-afa7c846c04f"
      },
      "execution_count": null,
      "outputs": [
        {
          "output_type": "stream",
          "name": "stdout",
          "text": [
            "Number of vowels: 3\n",
            "Number of consonants: 7\n"
          ]
        }
      ]
    },
    {
      "cell_type": "markdown",
      "source": [
        "2. Write a Python program that accepts a filename from the user and prints the extension\n",
        "of the file. (5 marks)\n"
      ],
      "metadata": {
        "id": "7XnORUxMhdyf"
      }
    },
    {
      "cell_type": "code",
      "source": [
        "filename= input(\"Enter the filename:\")\n",
        "extension=filename.split(\".\")\n",
        "print(\"Ouput\", extension)"
      ],
      "metadata": {
        "colab": {
          "base_uri": "https://localhost:8080/"
        },
        "id": "3TITUN46hjW1",
        "outputId": "4c84c19f-9f38-40d9-dd2f-cf935bfd9560"
      },
      "execution_count": null,
      "outputs": [
        {
          "output_type": "stream",
          "name": "stdout",
          "text": [
            "Enter the filename:fiza.ipynb\n",
            "Ouput ['fiza', 'ipynb']\n"
          ]
        }
      ]
    },
    {
      "cell_type": "markdown",
      "source": [
        "3. Write a Python program to check if value 200 exists in the following dictionary.\n",
        "(5 marks)\n",
        "Sample_dict = {'a': 100, 'b': 200, 'c': 300}"
      ],
      "metadata": {
        "id": "WQxdIIGbiRv_"
      }
    },
    {
      "cell_type": "code",
      "source": [
        "sample_dict = {'a': 100, 'b': 200, 'c': 300}\n",
        "if 200 in sample_dict.values():\n",
        "   print(\"Value 200 exists in the dictionary.\")\n",
        "else:\n",
        "   print(\"Value 200 does not exist in the dictionary.\")"
      ],
      "metadata": {
        "colab": {
          "base_uri": "https://localhost:8080/"
        },
        "id": "Y4rsVEQliWdd",
        "outputId": "d2670e8c-157b-456b-e366-84f35a6f52b4"
      },
      "execution_count": null,
      "outputs": [
        {
          "output_type": "stream",
          "name": "stdout",
          "text": [
            "Value 200 exists in the dictionary.\n"
          ]
        }
      ]
    },
    {
      "cell_type": "markdown",
      "source": [
        "4. The given tuple is a nested tuple. Write a Python program to print the value 20.\n",
        "(5 marks)\n",
        "tuple1 = (\"Orange\", [10, 20, 30], (5, 15, 25))"
      ],
      "metadata": {
        "id": "XoGt1MzIjCFM"
      }
    },
    {
      "cell_type": "code",
      "source": [
        "tuple1=(\"Orange\", [10, 20, 30], (5, 15, 25))\n",
        "print(tuple1[1][1])"
      ],
      "metadata": {
        "colab": {
          "base_uri": "https://localhost:8080/"
        },
        "id": "9OmLDxzBjG11",
        "outputId": "4ca5f0cb-2301-45d8-abbe-5f8e27dfc3fd"
      },
      "execution_count": null,
      "outputs": [
        {
          "output_type": "stream",
          "name": "stdout",
          "text": [
            "20\n"
          ]
        }
      ]
    },
    {
      "cell_type": "markdown",
      "source": [
        "5. Write a Python program that calculates the Body Mass Index (BMI) for a person\n",
        "based on their weight (in kilograms) and height (in meters). The BMI is calculated\n",
        "using the following formula: (5 marks)\n",
        "BMI = (weight) / (height^2)\n",
        "\n",
        "Instructions:\n",
        "\n",
        "● Prompt the user to enter their weight in kilograms.\n",
        "● Prompt the user to enter their height in meters.\n",
        "● Calculate the BMI using the provided formula.\n",
        "● Display the calculated BMI to the user.\n",
        "\n",
        "Additionally, provide an interpretation of the BMI according to the\n",
        "following categories:\n",
        "\n",
        "● BMI < 18.5: Underweight\n",
        "● 18.5 <= BMI < 25: Normal weight\n",
        "● 25 <= BMI < 30: Overweight\n",
        "● BMI >= 30: Obese"
      ],
      "metadata": {
        "id": "wis0bqotkY0W"
      }
    },
    {
      "cell_type": "code",
      "source": [
        "weight = float(input(\"Enter your weight in kilograms: \"))\n",
        "height = float(input(\"Enter your height in meters:\"))\n",
        "bmi = weight / (height**2)\n",
        "print(\"Your BMI is: round(bmi,2)\")\n",
        "\n",
        "if bmi<18.5:\n",
        "  print(\"Underweight\")\n",
        "elif bmi<25:\n",
        "    print(\"you have normal weight\")\n",
        "elif bmi<30:\n",
        "      print(\"you are overweight\")\n",
        "else:\n",
        "        print(\"you are obese\")"
      ],
      "metadata": {
        "colab": {
          "base_uri": "https://localhost:8080/"
        },
        "id": "73hpQvv4kaJt",
        "outputId": "81bf99b1-746b-4cc5-a2cf-c6b285a5b11d"
      },
      "execution_count": null,
      "outputs": [
        {
          "output_type": "stream",
          "name": "stdout",
          "text": [
            "Enter your weight in kilograms: 78\n",
            "Enter your height in meters:9.8\n",
            "Your BMI is: round(bmi,2)\n",
            "Underweight\n"
          ]
        }
      ]
    },
    {
      "cell_type": "markdown",
      "source": [
        "Write a Python program that prompts the user to input a string. The program\n",
        "should count the frequency of each character in the string and then print the result\n",
        "as a dictionary.(5 marks)\n",
        "\n",
        "EXAMPLE: If the user enters \"hello\" , the program should output {'h': 1, 'e': 1, 'l': 2, 'o': 1}\n",
        "indicating that 'h' appears once, 'e' appears once, 'l' appears twice, and 'o' appears\n",
        "once in the input string.\n"
      ],
      "metadata": {
        "id": "0uhUUZ5frO0Z"
      }
    },
    {
      "cell_type": "code",
      "source": [
        "\n",
        "string=input(\"Enter a string:\")\n",
        "\n",
        "freq={}\n",
        "\n",
        "\n",
        "for char in string:\n",
        "      if char in freq:\n",
        "         freq[char] += 1\n",
        "      else:\n",
        "         freq[char]=1\n",
        "\n",
        "\n",
        "print(freq)"
      ],
      "metadata": {
        "colab": {
          "base_uri": "https://localhost:8080/"
        },
        "id": "QKei89fbqzIO",
        "outputId": "9d79dc0b-2500-4d2a-bfa2-7a6a111b4ab6"
      },
      "execution_count": null,
      "outputs": [
        {
          "output_type": "stream",
          "name": "stdout",
          "text": [
            "Enter a string:fizaa\n",
            "{'f': 1, 'i': 1, 'z': 1, 'a': 2}\n"
          ]
        }
      ]
    },
    {
      "cell_type": "markdown",
      "source": [
        "7. Write a Python program that takes a string input from the user and checks if it is a valid\n",
        "email address. If it is valid, print \"Valid email address\", otherwise print \"Invalid email\n",
        "address\".(5 marks)\n",
        "\n",
        "Hint: Check if the string contains “@” and ends with “.net”, or “.com” to check\n",
        "validity. Example: If the email is “abc@example.com”, then it is a valid email,\n",
        "otherwise an Invalid email."
      ],
      "metadata": {
        "id": "cbkjESJNvcuH"
      }
    },
    {
      "cell_type": "code",
      "source": [
        "email=input(\"Enter valid email adress:\")\n",
        "if \"@\" in email and (email.endswith(\".com\") or email.endswith(\".net\")):\n",
        " print(\"Valid email\")\n",
        "else:\n",
        "  print(\"invalid email\")"
      ],
      "metadata": {
        "colab": {
          "base_uri": "https://localhost:8080/"
        },
        "id": "oQRITqYLvd3f",
        "outputId": "47a8f941-7f4a-4fae-f2b2-461e536ce7d6"
      },
      "execution_count": null,
      "outputs": [
        {
          "output_type": "stream",
          "name": "stdout",
          "text": [
            "Enter valid email adress:fiza@gmail.com\n",
            "Valid email\n"
          ]
        }
      ]
    },
    {
      "cell_type": "markdown",
      "source": [
        "8. Given a tuple of tuples, write a Python program to print the sum of the elements\n",
        "in each inner tuple. (5 marks)\n",
        "\n",
        "Input: ((1, 2, 3), (4, 5, 6), (7, 8, 9))\n",
        "Output: 6, 15, 24\n"
      ],
      "metadata": {
        "id": "ahmUri3uxuNm"
      }
    },
    {
      "cell_type": "code",
      "source": [
        "tuple_data=((1, 2, 3), (4, 5, 6), (7, 8, 9))\n",
        "\n",
        "for t in tuple_data:\n",
        "\n",
        "  print(sum(t))"
      ],
      "metadata": {
        "colab": {
          "base_uri": "https://localhost:8080/"
        },
        "id": "V9EMSNyTx0aF",
        "outputId": "1e2c29ab-5e1a-45da-cfaa-9ac853d01ac6"
      },
      "execution_count": null,
      "outputs": [
        {
          "output_type": "stream",
          "name": "stdout",
          "text": [
            "6\n",
            "15\n",
            "24\n"
          ]
        }
      ]
    },
    {
      "cell_type": "markdown",
      "source": [
        "9. Create a list containing the 10 numbers . Print the first Three prime numbers from\n",
        "the list."
      ],
      "metadata": {
        "id": "d7g_Js-E28tB"
      }
    },
    {
      "cell_type": "code",
      "source": [
        "numbers=[1,2,3,4,5,6,7,8,9,10]\n",
        "prime_numbers = []\n",
        "\n",
        "for num in numbers:\n",
        "  prime_numbers.append(num)\n",
        "  if len(prime_numbers) ==3:\n",
        "     break\n",
        "\n",
        "print(\"First 3 prime numbers:\",prime_numbers)"
      ],
      "metadata": {
        "colab": {
          "base_uri": "https://localhost:8080/"
        },
        "id": "mdi5MVoI3Br4",
        "outputId": "7176be74-550f-4db4-cc10-a1022847d317"
      },
      "execution_count": null,
      "outputs": [
        {
          "output_type": "stream",
          "name": "stdout",
          "text": [
            "First 3 prime numbers: [1, 2, 3]\n"
          ]
        }
      ]
    },
    {
      "cell_type": "markdown",
      "source": [
        "10.Given a list of dictionaries representing students' information (name, age, grade),\n",
        "Write a Python program to sort the students based on their grades in descending\n",
        "order and print the sorted list. (5 marks)\n",
        "Dictionary: [\n",
        "\n",
        "{\"name\": \"John\", \"age\": 20, \"grade\": 85},\n",
        "{\"name\": \"Alice\", \"age\": 22, \"grade\": 90},\n",
        "{\"name\": \"Bob\", \"age\": 21, \"grade\": 80}\n",
        "]"
      ],
      "metadata": {
        "id": "I7byHf2z5zrD"
      }
    },
    {
      "cell_type": "code",
      "source": [
        "students=[\n",
        "    {\"name\": \"FIZA\", \"age\": 20, \"grade\": 85}, {\"name\": \"SNOBAR\", \"age\": 22, \"grade\": 90}, {\"name\": \"TANZEELA\", \"age\": 21, \"grade\": 80} ]\n",
        "\n",
        "sorted_students = sorted(students, key=lambda x: x['grade'], reverse=True)\n",
        "\n",
        "print(sorted_students)"
      ],
      "metadata": {
        "id": "rbgC9zVk-IV0",
        "outputId": "e1922c17-f84f-4ba0-d09b-3eff2181ff16",
        "colab": {
          "base_uri": "https://localhost:8080/"
        }
      },
      "execution_count": null,
      "outputs": [
        {
          "output_type": "stream",
          "name": "stdout",
          "text": [
            "[{'name': 'SNOBAR', 'age': 22, 'grade': 90}, {'name': 'FIZA', 'age': 20, 'grade': 85}, {'name': 'TANZEELA', 'age': 21, 'grade': 80}]\n"
          ]
        }
      ]
    },
    {
      "cell_type": "markdown",
      "source": [
        "11. Create a program that takes a list of multiple numbers separated with commas (,) from\n",
        "the user and finds the total number of unique values in the list and also prints them. (5\n",
        "marks)\n",
        "Expected_format:\n",
        "Total number of unique values: 6\n",
        "Unique values in the list: [1, 2, 3, 4, 5, 6]"
      ],
      "metadata": {
        "id": "JPY-w1Pf-UJ6"
      }
    },
    {
      "cell_type": "code",
      "source": [
        "nums = input(\"Enter numbers seprated by commas:\")\n",
        "num_list = list(map(int,nums.split(\",\")))\n",
        "unique_values=list(set(num_list))\n",
        "print(\"Total number of unique values:\",len(unique_values))\n",
        "print(\"Unique values in the list:\",unique_values)"
      ],
      "metadata": {
        "id": "117j95cq-YrZ",
        "outputId": "c5f63207-5c15-4430-b925-f2cfee734089",
        "colab": {
          "base_uri": "https://localhost:8080/"
        }
      },
      "execution_count": null,
      "outputs": [
        {
          "output_type": "stream",
          "name": "stdout",
          "text": [
            "Enter numbers seprated by commas:10,10,19,39,20\n",
            "Total number of unique values: 4\n",
            "Unique values in the list: [10, 19, 20, 39]\n"
          ]
        }
      ]
    },
    {
      "cell_type": "markdown",
      "source": [
        "12.Write a program that takes two lists as input and returns a new list containing elements\n",
        "that are common to both lists.(Hint: Use list methods to implement this.) (5 marks)\n",
        "Input Lists:\n",
        "List 1: [1, 2, 3, 4, 5]\n",
        "List 2: [4, 5, 6, 7, 8]\n",
        "\n",
        "Common Elements: [4, 5]"
      ],
      "metadata": {
        "id": "8Yhwdg_tDC35"
      }
    },
    {
      "cell_type": "code",
      "source": [
        "List1=[1, 2, 3, 4, 5]\n",
        "List2= [4, 5, 6, 7, 8]\n",
        "common=[]\n",
        "\n",
        "for item in List1:\n",
        "  if item in List2:\n",
        "    common.append(item)\n",
        "print(\"Common Elements:\",common)\n"
      ],
      "metadata": {
        "id": "NizgbNloDEbu",
        "outputId": "11916cf9-befb-4ec1-cd9e-98474eebd5ed",
        "colab": {
          "base_uri": "https://localhost:8080/"
        }
      },
      "execution_count": null,
      "outputs": [
        {
          "output_type": "stream",
          "name": "stdout",
          "text": [
            "Common Elements: [4, 5]\n"
          ]
        }
      ]
    },
    {
      "cell_type": "markdown",
      "source": [
        "13.Write a program that takes two dictionaries as input and merges them into a new\n",
        "dictionary. If there are common keys, combine their values. (5 marks)\n",
        "dict1= {‘a’:5, ‘b’:10, ‘c’:15}\n",
        "dict2= {‘b’:20, ‘c’:25, ‘d’:30}"
      ],
      "metadata": {
        "id": "FLQFZUoMFUXF"
      }
    },
    {
      "cell_type": "code",
      "source": [
        "dict1= {'a':5, 'b':10, 'c':15}\n",
        "dict2= {'b':20, 'c':25, 'd':30}\n",
        "\n",
        "merged = dict1.copy()\n",
        "\n",
        "for key,value in dict2.items():\n",
        "   merged[key]= merged.get(key,0)+value\n",
        "print(merged)"
      ],
      "metadata": {
        "id": "qoh0JloMFVjL",
        "outputId": "e49050b8-0f3c-41b2-88eb-6cc0ef0a368a",
        "colab": {
          "base_uri": "https://localhost:8080/"
        }
      },
      "execution_count": null,
      "outputs": [
        {
          "output_type": "stream",
          "name": "stdout",
          "text": [
            "{'a': 5, 'b': 30, 'c': 40, 'd': 30}\n"
          ]
        }
      ]
    },
    {
      "cell_type": "markdown",
      "source": [
        "14.Write a program that takes two numbers, base and exponent, and calculates the result\n",
        "of raising base to the power of exponent using the ** operator. (5 marks)\n",
        "Input: Base: 2\n",
        "Exponent: 3\n",
        "\n",
        "Result: 8"
      ],
      "metadata": {
        "id": "Ku01SVnGG7m5"
      }
    },
    {
      "cell_type": "code",
      "source": [
        "base=int(input(\"Enter base:\"))\n",
        "exponent =int(input(\"Enter exponent:\"))\n",
        "result=base**exponent\n",
        "print(\"Result\",result)"
      ],
      "metadata": {
        "id": "V2U3V6O4HAK7",
        "outputId": "a85f97e5-43d5-41d5-fd33-c77d017bc2aa",
        "colab": {
          "base_uri": "https://localhost:8080/"
        }
      },
      "execution_count": null,
      "outputs": [
        {
          "output_type": "stream",
          "name": "stdout",
          "text": [
            "Enter base:3\n",
            "Enter exponent:2\n",
            "Result 9\n"
          ]
        }
      ]
    },
    {
      "cell_type": "markdown",
      "source": [
        "15.Write a program that takes a temperature in Celsius as input and converts it to\n",
        "Fahrenheit using the formula. (5 marks)\n",
        "Fahrenheit = (Celsius * 9/5) + 32."
      ],
      "metadata": {
        "id": "6QU456huJIXv"
      }
    },
    {
      "cell_type": "code",
      "source": [
        "celsius=float(input(\"Enter temperature in celsius:\"))\n",
        "fahrenheit=(celsius*9/5)+32\n",
        "print(\"Temperature in fahrenheit:\",fahrenheit)"
      ],
      "metadata": {
        "id": "WYkWmD2kJOMJ",
        "outputId": "51bc245d-8ce9-4c09-d934-6970e3505ccb",
        "colab": {
          "base_uri": "https://localhost:8080/"
        }
      },
      "execution_count": null,
      "outputs": [
        {
          "output_type": "stream",
          "name": "stdout",
          "text": [
            "Enter temperature in celsius:0\n",
            "Temperature in fahrenheit: 32.0\n"
          ]
        }
      ]
    },
    {
      "cell_type": "markdown",
      "source": [
        "16.Write a Python program to reverse a list without using built-in functions."
      ],
      "metadata": {
        "id": "Z2ATbFfWK4CU"
      }
    },
    {
      "cell_type": "code",
      "source": [
        "original=[1,2,3,4,5]\n",
        "reversed_list=[]\n",
        "for i in range (len(original)-1,-1,-1):\n",
        "  reversed_list.append(original[i])\n",
        "  print(reversed_list)\n"
      ],
      "metadata": {
        "id": "7QRzc_EGK9C0",
        "outputId": "82396ca4-045c-4252-f1d6-8ef2321a442d",
        "colab": {
          "base_uri": "https://localhost:8080/"
        }
      },
      "execution_count": null,
      "outputs": [
        {
          "output_type": "stream",
          "name": "stdout",
          "text": [
            "[5]\n",
            "[5, 4]\n",
            "[5, 4, 3]\n",
            "[5, 4, 3, 2]\n",
            "[5, 4, 3, 2, 1]\n"
          ]
        }
      ]
    },
    {
      "cell_type": "markdown",
      "source": [
        "17.Given a string \"Hello World\", write a Python program to reverse the string without\n",
        "reversing the individual words. (5 marks)"
      ],
      "metadata": {
        "id": "Pkjyy6aTMMXy"
      }
    },
    {
      "cell_type": "code",
      "source": [
        "sentence=\"Fiza Aslam \"\n",
        "words=sentence.split()\n",
        "reversed_words=words[::-1]\n",
        "reversed_sentence=' '.join(reversed_words)\n",
        "print(result)"
      ],
      "metadata": {
        "id": "Id8fFfGBMS98",
        "outputId": "0777ec7c-6a94-4f33-d1b0-e4baa8caf2a9",
        "colab": {
          "base_uri": "https://localhost:8080/"
        }
      },
      "execution_count": null,
      "outputs": [
        {
          "output_type": "stream",
          "name": "stdout",
          "text": [
            "Aslam Fiza\n"
          ]
        }
      ]
    },
    {
      "cell_type": "markdown",
      "source": [
        "18. Implement a Python function is_palindrome() that checks whether a passed string is a\n",
        "palindrome (reads the same forward and backward) and tests it with \"radar\".(5"
      ],
      "metadata": {
        "id": "952AQLKhPPdt"
      }
    },
    {
      "cell_type": "code",
      "source": [
        "def is_palindrome(word):\n",
        "  return word==word[::-1]\n",
        "print(is_palindrome(\"radar\"))"
      ],
      "metadata": {
        "id": "g1kcn9yzPTjn",
        "outputId": "fdb306ca-ba07-4e9f-8e7a-4a04d29c37dd",
        "colab": {
          "base_uri": "https://localhost:8080/"
        }
      },
      "execution_count": null,
      "outputs": [
        {
          "output_type": "stream",
          "name": "stdout",
          "text": [
            "True\n"
          ]
        }
      ]
    },
    {
      "cell_type": "markdown",
      "source": [
        "19.Write a program that returns a list of even numbers from a given list. (5 marks)\n",
        "\n",
        "Input: [2, 5, 3, 7, 9, 53, 10, 32, 65, 76, 98]"
      ],
      "metadata": {
        "id": "TxiZ2jLXQQWM"
      }
    },
    {
      "cell_type": "code",
      "source": [
        "numbers=[2,5, 3, 7, 9, 53, 10, 32, 65, 76, 98]\n",
        "even_numbers=[]\n",
        "for num in numbers:\n",
        "  if num%2==0:\n",
        "    even_numbers.append(num)\n",
        "print(\"Even numbers:\",even_numbers)"
      ],
      "metadata": {
        "id": "SIGhEcdsQUza",
        "outputId": "7e6bbc1c-3333-458f-adcf-d94c7c41a6e0",
        "colab": {
          "base_uri": "https://localhost:8080/"
        }
      },
      "execution_count": null,
      "outputs": [
        {
          "output_type": "stream",
          "name": "stdout",
          "text": [
            "Even numbers: [2, 10, 32, 76, 98]\n"
          ]
        }
      ]
    },
    {
      "cell_type": "markdown",
      "source": [
        "20.Given two lists keys = ['a', 'b', 'c'] and values = [1, 2, 3], write a Python program\n",
        "to create a dictionary from these lists. (5 marks)\n",
        "\n",
        "Expected Output: {'a': 1, 'b': 2, 'c': 3}"
      ],
      "metadata": {
        "id": "4BXK00ZRREBE"
      }
    },
    {
      "cell_type": "code",
      "source": [
        "keys= ['a', 'b', 'c']\n",
        "values = [1, 2, 3]\n",
        "result=dict(zip(keys,values))\n",
        "print(result)"
      ],
      "metadata": {
        "id": "vuq0G0bGRINf",
        "outputId": "8e15e981-cde2-49e8-f53b-61657dae8acf",
        "colab": {
          "base_uri": "https://localhost:8080/"
        }
      },
      "execution_count": null,
      "outputs": [
        {
          "output_type": "stream",
          "name": "stdout",
          "text": [
            "{'a': 1, 'b': 2, 'c': 3}\n"
          ]
        }
      ]
    }
  ],
  "metadata": {
    "colab": {
      "toc_visible": true,
      "provenance": []
    },
    "kernelspec": {
      "display_name": "Python 3",
      "name": "python3"
    }
  },
  "nbformat": 4,
  "nbformat_minor": 0
}