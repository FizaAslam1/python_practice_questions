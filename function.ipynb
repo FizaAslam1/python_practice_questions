{
  "nbformat": 4,
  "nbformat_minor": 0,
  "metadata": {
    "colab": {
      "provenance": []
    },
    "kernelspec": {
      "name": "python3",
      "display_name": "Python 3"
    },
    "language_info": {
      "name": "python"
    }
  },
  "cells": [
    {
      "cell_type": "code",
      "execution_count": 2,
      "metadata": {
        "colab": {
          "base_uri": "https://localhost:8080/"
        },
        "id": "hZFtS7nzyv6V",
        "outputId": "4111877a-9501-44be-f294-f7ebb0faea9b"
      },
      "outputs": [
        {
          "output_type": "stream",
          "name": "stdout",
          "text": [
            "13\n"
          ]
        }
      ],
      "source": [
        "def calc_sum(a, b):\n",
        "    return a + b\n",
        "\n",
        "result = calc_sum(4, 9)\n",
        "print(result)\n"
      ]
    },
    {
      "cell_type": "code",
      "source": [
        "def check_even_odd(number):\n",
        "    if number % 2 == 0:\n",
        "        return \"even\"\n",
        "    else:\n",
        "        return \"odd\"\n"
      ],
      "metadata": {
        "id": "3GeKiqL2y6mi"
      },
      "execution_count": 3,
      "outputs": []
    },
    {
      "cell_type": "code",
      "source": [
        "result = check_even_odd(7)\n",
        "print(result)  # Output: odd\n",
        "\n",
        "result = check_even_odd(4)\n",
        "print(result)  # Output: even\n"
      ],
      "metadata": {
        "colab": {
          "base_uri": "https://localhost:8080/"
        },
        "id": "s32-fTQ-y-ry",
        "outputId": "cac5fe48-d18e-4836-c8fa-aa096e24dec9"
      },
      "execution_count": 4,
      "outputs": [
        {
          "output_type": "stream",
          "name": "stdout",
          "text": [
            "odd\n",
            "even\n"
          ]
        }
      ]
    },
    {
      "cell_type": "code",
      "source": [
        "def calc_avg(a, b):\n",
        "    return (a + b)/2\n",
        "\n",
        "result = calc_avg(4, 9)\n",
        "print(result)"
      ],
      "metadata": {
        "colab": {
          "base_uri": "https://localhost:8080/"
        },
        "id": "z9NbY984zE-K",
        "outputId": "8bc2179f-7ac0-49ea-bed1-e735b84e9f3c"
      },
      "execution_count": 5,
      "outputs": [
        {
          "output_type": "stream",
          "name": "stdout",
          "text": [
            "6.5\n"
          ]
        }
      ]
    },
    {
      "cell_type": "code",
      "source": [
        "cities = [\"delhi\", \"havelilakha\", \"mumbai\", \"pune\"]\n",
        "besties = [\"fiza\", \"snobar\", \"tanu\", \"amoo\", \"dj\"]\n",
        "\n",
        "def print_len(lst):\n",
        "    print(len(lst))  # ✅ prints the length of the list\n",
        "\n",
        "print_len(cities)    # Output: 4\n",
        "print_len(besties)   # Output: 5\n"
      ],
      "metadata": {
        "colab": {
          "base_uri": "https://localhost:8080/"
        },
        "id": "2LC3Ln-MzOSe",
        "outputId": "a061dec9-78ba-41c4-cf59-0c3565aa0806"
      },
      "execution_count": 6,
      "outputs": [
        {
          "output_type": "stream",
          "name": "stdout",
          "text": [
            "4\n",
            "5\n"
          ]
        }
      ]
    },
    {
      "cell_type": "code",
      "source": [
        "cities = [\"delhi\", \"havelilakha\", \"mumbai\", \"pune\"]\n",
        "besties = [\"fiza\", \"snobar\", \"tanu\", \"amoo\", \"dj\"]\n",
        "\n",
        "def print_list(list):\n",
        "  for item in list:\n",
        "    print(item,end=\" \")\n",
        "\n",
        "print_list(besties)"
      ],
      "metadata": {
        "colab": {
          "base_uri": "https://localhost:8080/"
        },
        "id": "KwhsyVd0zWwU",
        "outputId": "5f0c2217-6271-418d-ee45-2451c9469cd2"
      },
      "execution_count": 8,
      "outputs": [
        {
          "output_type": "stream",
          "name": "stdout",
          "text": [
            "fiza snobar tanu amoo dj "
          ]
        }
      ]
    },
    {
      "cell_type": "code",
      "source": [
        "def cal_fact(n):\n",
        "    fact = 1\n",
        "    for i in range(1, n + 1):\n",
        "        fact *= i\n",
        "    print(f\"Factorial of {n} is {fact}\")\n",
        "\n",
        "\n",
        "cal_fact(5)\n"
      ],
      "metadata": {
        "colab": {
          "base_uri": "https://localhost:8080/"
        },
        "id": "SXtgqC7e0V6d",
        "outputId": "2bb4b5cd-3ce9-404c-a380-cfa9e38c8459"
      },
      "execution_count": 10,
      "outputs": [
        {
          "output_type": "stream",
          "name": "stdout",
          "text": [
            "Factorial of 5 is 120\n"
          ]
        }
      ]
    },
    {
      "cell_type": "code",
      "source": [
        "def converter(usd_val):\n",
        "  inr_val=usd_val*280\n",
        "  print(usd_val,\"USD=\",inr_val,\"INR\")\n",
        "\n",
        "converter(100)"
      ],
      "metadata": {
        "colab": {
          "base_uri": "https://localhost:8080/"
        },
        "id": "JU5EbOSk0m3R",
        "outputId": "1b71301a-45b4-43bf-8f0e-a0582cd1f2b9"
      },
      "execution_count": 11,
      "outputs": [
        {
          "output_type": "stream",
          "name": "stdout",
          "text": [
            "100 USD= 28000 INR\n"
          ]
        }
      ]
    },
    {
      "cell_type": "code",
      "source": [
        "def show(n):\n",
        "  if(n==0):\n",
        "    return\n",
        "  print(n)\n",
        "  show(n-1)\n",
        "show(5)"
      ],
      "metadata": {
        "colab": {
          "base_uri": "https://localhost:8080/"
        },
        "id": "ZVePtrld54f-",
        "outputId": "78a7e6d2-849b-48ce-9145-74af745d028d"
      },
      "execution_count": 12,
      "outputs": [
        {
          "output_type": "stream",
          "name": "stdout",
          "text": [
            "5\n",
            "4\n",
            "3\n",
            "2\n",
            "1\n"
          ]
        }
      ]
    },
    {
      "cell_type": "code",
      "source": [
        "def factorial(n):\n",
        "    if n == 0 or n == 1:\n",
        "        return 1\n",
        "    return n * factorial(n - 1)\n",
        "print(factorial(5))  # Output: 120\n"
      ],
      "metadata": {
        "colab": {
          "base_uri": "https://localhost:8080/"
        },
        "id": "Z_Sak08G6l2b",
        "outputId": "65cd93c5-863b-4807-c907-13e87c60ca3d"
      },
      "execution_count": 13,
      "outputs": [
        {
          "output_type": "stream",
          "name": "stdout",
          "text": [
            "120\n"
          ]
        }
      ]
    },
    {
      "cell_type": "code",
      "source": [
        "def recursive_sum(n):\n",
        "    if n == 0:\n",
        "        return 0\n",
        "    return n + recursive_sum(n - 1)\n"
      ],
      "metadata": {
        "id": "Ws_Wp9_N8iWD"
      },
      "execution_count": 14,
      "outputs": []
    },
    {
      "cell_type": "code",
      "source": [
        "print(recursive_sum(5))  # Output: 15 (5+4+3+2+1+0)\n"
      ],
      "metadata": {
        "colab": {
          "base_uri": "https://localhost:8080/"
        },
        "id": "QOVyMHyh8kMp",
        "outputId": "6d4a0876-ce11-493d-8a40-e3a704b18a6a"
      },
      "execution_count": 15,
      "outputs": [
        {
          "output_type": "stream",
          "name": "stdout",
          "text": [
            "15\n"
          ]
        }
      ]
    },
    {
      "cell_type": "code",
      "source": [
        "def print_list_elements(my_list, index):\n",
        "    if index == len(my_list):\n",
        "        return\n",
        "    print(my_list[index])\n",
        "    print_list_elements(my_list, index + 1)\n"
      ],
      "metadata": {
        "id": "Qq1uqaDL9Ecs"
      },
      "execution_count": 16,
      "outputs": []
    },
    {
      "cell_type": "code",
      "source": [
        "cities = [\"delhi\", \"havelilakha\", \"mumbai\", \"pune\"]\n",
        "print_list_elements(cities, 0)\n"
      ],
      "metadata": {
        "colab": {
          "base_uri": "https://localhost:8080/"
        },
        "id": "_5vmGE5i9I1c",
        "outputId": "c61999be-60e9-4225-cbf7-588226c829da"
      },
      "execution_count": 17,
      "outputs": [
        {
          "output_type": "stream",
          "name": "stdout",
          "text": [
            "delhi\n",
            "havelilakha\n",
            "mumbai\n",
            "pune\n"
          ]
        }
      ]
    }
  ]
}